{
 "cells": [
  {
   "cell_type": "markdown",
   "metadata": {},
   "source": [
    "# Financial Screen Scraping\n",
    "\n",
    "Average investors constantly get sapped by get-rich-quick schemes or the well-meaning advice of friends. Generally lacking in financial literacy, they're prone to fall victim to a good story without doing rigorous analysis on securities. \n",
    "\n",
    "The problems with rigorous analysis:\n",
    "1. It's hard! \n",
    "2. It takes too much time! \n",
    "3. It's expensive to acquire data from financial institutions!\n",
    "\n",
    "All of these things are true, which is why we'll use Python and pandas to scrape the web for the needed numbers, apply them to a market tested model, and export the output to Google Sheets! The idea for this project came from a client who was doing these calculations manually and wanted to automate his market analysis. He's been kind enough to allow me to share this with the open source community."
   ]
  },
  {
   "cell_type": "markdown",
   "metadata": {},
   "source": [
    "## Dependencies\n",
    "\n",
    "Before getting started, make sure your environment has all the modules listed below. The ones you don't have are available with a simple :pip install module_name: command (for instance - pip install pygsheets).\n",
    "\n",
    "This contains everything you'll need to get up and running harvesting financial data!"
   ]
  },
  {
   "cell_type": "code",
   "execution_count": 2,
   "metadata": {},
   "outputs": [],
   "source": [
    "import pandas as pd #data processing\n",
    "from tqdm import tqdm #progress bars\n",
    "import pygsheets #export to Google Sheets\n",
    "import numpy as np #numerical processing\n",
    "import datetime #enable datetime manipulation\n",
    "pd.set_option('max_columns', 500) #more columns makes it easier to work with wide datasets"
   ]
  },
  {
   "cell_type": "markdown",
   "metadata": {},
   "source": [
    "## The Model\n",
    "\n",
    "You can work with whatever model your data will permit you to access. We're using a version of [Discounted Cash Flow](https://www.valuespreadsheet.com/free-discounted-cash-flow-calculator-spreadsheet)(DCF) designed by Nick Kraackman, founder of [Value Spreadsheet](https://www.valuespreadsheet.com/). This is a value-investing strategy designed to evaluate long-term plays by valuing a company in terms of forecasted cash flows. A value-investing strategy is ideal for this type of algorithm, as screen scraping will naturally be much slower than High Frequency Trading (HFT) algos.\n",
    "\n",
    "His formula for DCF is as follows: "
   ]
  },
  {
   "cell_type": "markdown",
   "metadata": {},
   "source": [
    "$$DCF= fcf_y*m + \\sum_{i=1}^y fcf_i = \\frac{fcf_{i-1} * (1 + (g_{i-1}*gd))}{(1+r)}$$\n",
    "\n"
   ]
  },
  {
   "cell_type": "markdown",
   "metadata": {},
   "source": [
    "|Variable|Term            |Found On|\n",
    "|-----|-----|-----|\n",
    "|DCF     |Discounted Cash Flow  |Calculate|\n",
    "|fcf     |Free Cash Flow|Cash Flow Statement|\n",
    "|m|Multiplier|User Defined|\n",
    "|i|Current Year|Within Calculation|\n",
    "|y|Max Year|User Defined|\n",
    "|g|Growth Rate|User Defined|\n",
    "|gd|Growth Decline Rate|User Defined|\n",
    "|r|Discount Rate|User Defined|"
   ]
  },
  {
   "cell_type": "markdown",
   "metadata": {},
   "source": [
    "The \"User Defined\" variables are assumptions it's up to the investor to make about the time value of money, but **we'll use the numbers that Nick Kraackman suggested in his article** to get started. \n",
    "\n",
    "The function below models this process in Python and can be called on its own or within another function. "
   ]
  },
  {
   "cell_type": "code",
   "execution_count": 3,
   "metadata": {},
   "outputs": [],
   "source": [
    "def npv_fcf(fcf, discount_rate, years, growth_rate, multiplier, growth_decline_rate, cash_on_hand, total_debt):\n",
    "    '''Calculates net present value of a free cash flow over a given time period'''\n",
    "    \n",
    "    npv = [] #initialize a list\n",
    "    \n",
    "    #Add values depending on year, growth rate, growth decline, and discount rate\n",
    "    for year in range(1, years+1):\n",
    "        fcf = fcf * (1 + growth_rate)/((1 + discount_rate))\n",
    "        growth_rate = growth_rate * (1-growth_decline_rate)\n",
    "        \n",
    "        final_fcf = fcf\n",
    "    \n",
    "        npv.append(fcf)\n",
    "    \n",
    "    max_year_fcf_value = final_fcf * multiplier #Year 10NPV Value\n",
    "    npv.append(max_year_fcf_value) \n",
    "    \n",
    "    npv.append(cash_on_hand)\n",
    "    npv.append(-total_debt)\n",
    "    \n",
    "        \n",
    "    return sum(npv)  "
   ]
  },
  {
   "cell_type": "markdown",
   "metadata": {},
   "source": [
    "## Ingesting the Data to Feed the Model\n",
    "\n",
    "So the web scraping begins here. We grab, clean, and manipulate the needed data with a popular library data scientists use for cleanup: pandas. \n",
    "\n",
    "It's a big function, but what it's doing is simple. \n",
    "\n",
    "1. It pulls in a dictionary of stock ticker symbols paired with their brand names and categories. \n",
    "2. It then scans multiple places on the web for a particular stock and searches through those pages for needed data elements. \n",
    "    1. Try replacing the curly brackets in the URLs with the 'AAPL' stock ticker and browsing to those pages on your own to get a sense for the data that it's reading\n",
    "3. The pd.read_html() function stores the tables on an HTML page as a list of DataFrames, which explains the slicing notation [0] you see after the calls to those functions\n",
    "\n",
    "The function goes through the process of finding, cleaning, and calculating DCF for each stock and displays a progress bar as it's downloading from the web. \n",
    "\n",
    "It may look like a huge function, but that's the nature of having to pick and clean so many individual points from different locations. "
   ]
  },
  {
   "cell_type": "code",
   "execution_count": 4,
   "metadata": {},
   "outputs": [],
   "source": [
    "def trackr(stocks, margin_of_safety=.25, discount_rate=.1, growth_decline=.05, years=10, multiplier=12, yahoo_adjust=1000):\n",
    "    '''trackr reads a dictionary of stocks and their associated company names and categories and returns today's Yahoo Finance \n",
    "    stats on the corresponding stock as a row of values that can be appended to a dataframe'''\n",
    "    \n",
    "    #Error Handling\n",
    "    if type(stocks) != dict:\n",
    "        print('Error. You must enter these in a dictionary format, where the symbol is the key, name is first list value, and the subsequent list values are categories')\n",
    "        return\n",
    "    \n",
    "    tickers = list(stocks.keys()) #convert to list in case single string entered\n",
    "    quotes = [] #capture each entry as a row\n",
    "    \n",
    "    for ticker in tqdm(tickers):\n",
    "        #Grab appropriate data based on tickers. This stores the appropriate URLs and then pulls data from the pages of Yahoo Finance\n",
    "        \n",
    "        quote = 'https://finance.yahoo.com/quote/{}?p-{}'.format(ticker, ticker) #Quote string\n",
    "        cashflow = 'https://finance.yahoo.com/quote/{}/cash-flow?p={}'.format(ticker, ticker) #Cashflow string\n",
    "        stat = 'https://finance.yahoo.com/quote/{}/key-statistics?p={}'.format(ticker, ticker) #Key Statistics String\n",
    "        balance = 'https://finance.yahoo.com/quote/{}/balance-sheet?p={}&.tsrc=fin-srch'.format(ticker, ticker) #Balance Sheet String\n",
    "        analysis = 'https://finance.yahoo.com/quote/{}/analysis?p={}'.format(ticker, ticker) #Analysis String\n",
    "        quote_data = pd.read_html(quote) #grab the data that YAHOO has on the given stock\n",
    "        cashflow_data = pd.read_html(cashflow) #grab the cashflow statement\n",
    "        stat_data = pd.read_html(stat) #grab key stats\n",
    "        balance_data = pd.read_html(balance) #grab balance sheet\n",
    "        analysis_data = pd.read_html(analysis) #grab analysis data\n",
    "\n",
    "        '''The HTML tables parse into a list. It will take some cleanup to prepare the list for a dataframe\n",
    "        stock 1 gives us Previous Close, Open, Bid, Ask, Day's Range, 52 Week Range, Volume, and Avg. Volume\n",
    "        stock 2 gives us Market Cap, Beta (3Y Monthly), PE Ratio (TTM), EPS (TTM), Earnings Date, Forward Dividend & Yield, Ex-Dividend Date, 1y Target Est'''\n",
    "\n",
    "        stock1 = quote_data[0].transpose() #Transpose data into meaningful arrangement.\n",
    "        stock1.columns = stock1.iloc[0] #set new header row\n",
    "        stock1.drop(0, inplace=True) #drop the old\n",
    "\n",
    "        stock2 = quote_data[1].transpose() #Transpose data into meaningful arrangement\n",
    "        stock2.columns = stock2.iloc[0] #set new header row\n",
    "        stock2.drop(0, inplace=True) #drop the old\n",
    "\n",
    "        #combine them\n",
    "        stock_cat = pd.concat([stock1, stock2], axis=1)\n",
    "        \n",
    "        #grab cashflow data for discounted cashflow calculation\n",
    "        stock_cat['Cash Flow'] = np.where(cashflow_data[0].iloc[9][1] == '-', \n",
    "                                          cashflow_data[0].iloc[9][2],\n",
    "                                          cashflow_data[0].iloc[9][1])\n",
    "        stock_cat['CapEx'] = np.where(cashflow_data[0].iloc[11][1] == '-', \n",
    "                                          cashflow_data[0].iloc[11][2],\n",
    "                                          cashflow_data[0].iloc[11][1])\n",
    "        \n",
    "\n",
    "        #add them up for Free Cash Flow calculation\n",
    "        stock_cat['Free Cash Flow'] = int(stock_cat['Cash Flow']) + int(stock_cat['CapEx'])\n",
    "        \n",
    "        # Adds cash and cash equivalents with short term investments. Discards blank values that yahoo returns and goes back a year if needed\n",
    "        \n",
    "        stock_cat['Cash On Hand'] = np.where(balance_data[0].iloc[2,1] == '-',\n",
    "                                             int(balance_data[0].iloc[2,2]) + int(balance_data[0].iloc[3,2].replace('-', '0')),\n",
    "                                             int(balance_data[0].iloc[2,1].replace('-', '0')) + int(balance_data[0].iloc[3,1].replace('-', '0')))\n",
    "        \n",
    "        #grabs long term debt, filling in blank values where needed\n",
    "        stock_cat['Long Term Debt'] = np.where(balance_data[0].iloc[21, 1] == '-',\n",
    "                                               balance_data[0].iloc[21, 2],\n",
    "                                               balance_data[0].iloc[21, 1])\n",
    "        \n",
    "        #Pulls Yahoo's version of shares outstanding, applying a different multiplier for billions vs millions\n",
    "        stock_cat['Approx Shares Outstanding'] = np.where(stat_data[8].loc[2,1][-1] == 'B',\n",
    "                                                          float(stat_data[8].loc[2,1][:-1]) * 1000000000,\n",
    "                                                          float(stat_data[8].loc[2,1][:-1]) * 1000000)\n",
    "        \n",
    "        #pulls Yahoo's compiling of analyst 5 year estimate for growth\n",
    "        stock_cat['Conservative Analyst 5y'] = (float(analysis_data[5].loc[4, ticker.upper()].split('%')[0])/100)*(1-margin_of_safety)\n",
    "        \n",
    "        \n",
    "        # turn columns to numeric\n",
    "        num_cols = ['Cash Flow', 'Free Cash Flow', 'CapEx', 'Cash On Hand', 'Long Term Debt', 'Approx Shares Outstanding', 'Conservative Analyst 5y',\n",
    "                    'Previous Close', 'Open', 'Volume', 'Avg. Volume', 'Beta (3Y Monthly)', 'PE Ratio (TTM)', 'EPS (TTM)', '1y Target Est']\n",
    "        for col in num_cols:\n",
    "            stock_cat[col] = np.nan_to_num(pd.to_numeric(stock_cat[col], errors='coerce'))\n",
    "            \n",
    "        # convert to appropriate values by multiplying needed cols by 1000\n",
    "        dollar_cols = ['Cash Flow', 'CapEx', 'Free Cash Flow', 'Cash On Hand', 'Long Term Debt']\n",
    "        for col in dollar_cols:\n",
    "            stock_cat[col] = stock_cat[col] * yahoo_adjust\n",
    "        \n",
    "        #Calculate net present value of the equity            \n",
    "        stock_cat['DCF Value'] = npv_fcf(stock_cat['Free Cash Flow'], \n",
    "                                         discount_rate, \n",
    "                                         years, \n",
    "                                         stock_cat['Conservative Analyst 5y'],\n",
    "                                         multiplier,\n",
    "                                         growth_decline,\n",
    "                                         stock_cat['Cash On Hand'],\n",
    "                                         stock_cat['Long Term Debt']\n",
    "                                         )\n",
    "        \n",
    "        #Compares the Discounted Cash Flow to share price so decisions can be made about what's overvalued and undervalued. Higher than 1 means undervalued\n",
    "        stock_cat['DCF Share Price'] = stock_cat['DCF Value'] / stock_cat['Approx Shares Outstanding']\n",
    "        stock_cat['DCF/Price Multiple'] = stock_cat['DCF Share Price']/stock_cat['Previous Close']\n",
    "        \n",
    "        #Give the period of reports using cash on hand report as proxy for data not reported\n",
    "        stock_cat['Reporting Period'] = np.where(balance_data[0].iloc[2,1] == '-',\n",
    "                                                 balance_data[0].iloc[0,2],\n",
    "                                                 balance_data[0].iloc[0,1])\n",
    "        stock_cat['Reporting Period'] = pd.to_datetime(stock_cat['Reporting Period'])\n",
    "        \n",
    "        #Preps needed categories for display\n",
    "        stock_cat['Date'] = pd.to_datetime(datetime.date.today())\n",
    "        stock_cat['Ticker'] = ticker.upper()\n",
    "        stock_cat['Name'] = stocks[ticker][0]\n",
    "        stock_cat['Categories'] = [stocks[ticker][1:]]\n",
    "\n",
    "        #reorder the columns for more meaningful view\n",
    "        stock_cat = stock_cat[list(stock_cat.columns[-4:]) + list(stock_cat.columns)[:-4]]\n",
    "        \n",
    "        #finally, add the entry to the list\n",
    "        quotes.append(stock_cat.iloc[0])\n",
    "    \n",
    "    stock_frame = pd.DataFrame(quotes) #Turn these values into a dataframe\n",
    "    stock_frame.replace('N/A (N/A)', np.nan, inplace=True) #properly indicate null values\"\n",
    "    stock_frame.set_index('Date', drop=True, inplace=True) #and prepare datetime indexing for better analysis\n",
    "    \n",
    "    return stock_frame #return a dataframe reflecting each entry"
   ]
  },
  {
   "cell_type": "markdown",
   "metadata": {},
   "source": [
    "## Grabbing the Stocks and Presenting the Data\n",
    "\n",
    "The dictionary below contains the stocks my client requested to track. Using a list to store the company name and multiple categories was simple enough to get the job done and keep him apprised of all the data he wanted on each company, as his goal is to sort and filter on his own criteria in a Google Sheet. "
   ]
  },
  {
   "cell_type": "code",
   "execution_count": 5,
   "metadata": {},
   "outputs": [],
   "source": [
    "#Dictionary of stocks requested to track. Key is ticker symbol, list position 1 is name, and subsequent positions are categories to which the company belongs.\n",
    "\n",
    "br_stocks = {'aapl': ['Apple', 'Cell Phone'], \n",
    "             '005930.KS': ['Samsung', 'Cell Phone'],\n",
    "             't': ['ATT', 'Cell Service Provider', 'ISP'],\n",
    "             'vz': ['Verizon', 'Cell Service Provider'],\n",
    "             'cmcsa': ['Comcast', 'ISP'],\n",
    "             'chtr': ['Charter', 'ISP'],\n",
    "             'duk': ['Duke Energy', 'Power Provider'],\n",
    "             'ngg': ['National Grid', 'Power Provider'],\n",
    "             'so': ['Southern Company', 'Power Provider'],\n",
    "             'googl': ['Google', 'Search'],\n",
    "             'fb': ['Facebook', 'Advertising'],\n",
    "             'twtr': ['Twitter', 'Twitter'],\n",
    "             'gsk': ['Glaxosmithkline', 'Toothpaste'],\n",
    "             'cl': ['Colgate-Palmolive', 'Toothpaste'],\n",
    "             'ul': ['Unilever', 'Soap'],\n",
    "             'ip': ['International Paper', 'Paper'],\n",
    "             'RDS-A': ['Royal Dutch Shell', 'Gas'],\n",
    "             'xom': ['Exxon', 'Gas'],\n",
    "             'cvx': ['Chevron', 'Gas'],\n",
    "             'pg': ['Proctor & Gamble', 'Detergent'],\n",
    "             'chd': ['Church and Dwight', 'Detergent'],\n",
    "             'kdp': ['Kuerig Dr. Pepper', 'Coffee'],\n",
    "             'sjm': ['JM Smucker Company', 'Coffee'],\n",
    "             'sbux': ['Starbucks', 'Coffee'],\n",
    "             'amzn': ['Amazon', 'Retail', 'Cloud Storage'],\n",
    "             'wmt': ['Wal Mart', 'Retail', 'Grocery'],\n",
    "             'tgt': ['Target', 'Retail'],\n",
    "             'kr': ['Kroger', 'Kroger'],\n",
    "             'msft': ['Microsoft', 'Cloud Storage'],\n",
    "             'ibm': ['IBM', 'Cloud Storage'],\n",
    "             'crm': ['Salesforce', 'Cloud Storage']}"
   ]
  },
  {
   "cell_type": "markdown",
   "metadata": {},
   "source": [
    "Here, we call the function based on his requests."
   ]
  },
  {
   "cell_type": "code",
   "execution_count": 6,
   "metadata": {},
   "outputs": [
    {
     "name": "stderr",
     "output_type": "stream",
     "text": [
      "100%|██████████| 31/31 [01:49<00:00,  5.98s/it]\n"
     ]
    }
   ],
   "source": [
    "dcf_trackr = trackr(br_stocks)"
   ]
  },
  {
   "cell_type": "markdown",
   "metadata": {},
   "source": [
    "## Presenting to Google Sheets\n",
    "\n",
    "The most important part is presenting the data in a way that's usable to the client. His preference was to receive the data in Google Sheets.\n",
    "\n",
    "This called for reducing the DataFrame to the specific columns the client needed to see and establishing an easy way to understand how to make a decision based on the DCF. That column is the DCF/Price multiple, which simply divides the current DCF value price by the previous day's stock price. This is a \"Higher is Better\" scenario, and any value greater than 1 means the DCF is telling us the company may be undervalued, and thus a potential buy. "
   ]
  },
  {
   "cell_type": "code",
   "execution_count": 6,
   "metadata": {},
   "outputs": [],
   "source": [
    "quotes = dcf_trackr[['Ticker', 'Name', 'Categories', 'Previous Close', 'Market Cap', 'Cash Flow', \n",
    "                     'CapEx', 'Free Cash Flow', 'Cash On Hand', 'Long Term Debt', 'Approx Shares Outstanding', \n",
    "                     'Conservative Analyst 5y', 'DCF Value', 'DCF Share Price', 'DCF/Price Multiple', 'Reporting Period']]"
   ]
  },
  {
   "cell_type": "markdown",
   "metadata": {},
   "source": [
    "We then publish to Google Sheets using pygsheets in a process outlined [here](https://pygsheets.readthedocs.io/en/stable/)."
   ]
  },
  {
   "cell_type": "code",
   "execution_count": 8,
   "metadata": {},
   "outputs": [],
   "source": [
    "#Publish to Google Sheets\n",
    "sheet_auth = ''\n",
    "sheet_name = 'y_finance_stocks'\n",
    "gc = pygsheets.authorize(service_file=sheet_auth)\n",
    "sh = gc.open(sheet_name)\n",
    "wks = sh[0]\n",
    "wks.set_dataframe(quotes.reset_index(), (1,1)) #specifies cell coordinates of upper leftmost cell"
   ]
  },
  {
   "cell_type": "markdown",
   "metadata": {},
   "source": [
    "The client is looking at the stocks that DCF indicates are undervalued and performing further analysis to make a decision on purchases, and with this script, you can too!\n",
    "\n",
    "A few use cases that could be helpful:\n",
    "- Copy the script and input stocks that you would like to track\n",
    "- Use jupyter nbconvert and argparser to save this as an executable you can run from the command line\n",
    "- Automate the operation in a way that you see fit\n",
    "- Find more models and hunt for more data on the web, even breaking out of what's on Yahoo Finance!"
   ]
  }
 ],
 "metadata": {
  "kernelspec": {
   "display_name": "Python 3",
   "language": "python",
   "name": "python3"
  },
  "language_info": {
   "codemirror_mode": {
    "name": "ipython",
    "version": 3
   },
   "file_extension": ".py",
   "mimetype": "text/x-python",
   "name": "python",
   "nbconvert_exporter": "python",
   "pygments_lexer": "ipython3",
   "version": "3.7.1"
  }
 },
 "nbformat": 4,
 "nbformat_minor": 2
}
